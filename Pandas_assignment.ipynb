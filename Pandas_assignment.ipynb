{
  "nbformat": 4,
  "nbformat_minor": 0,
  "metadata": {
    "colab": {
      "name": "Pandas_assignment.ipynb",
      "provenance": [],
      "collapsed_sections": [],
      "authorship_tag": "ABX9TyOCBXcfxIZUAq7bwQqkaPI6",
      "include_colab_link": true
    },
    "kernelspec": {
      "name": "python3",
      "display_name": "Python 3"
    },
    "language_info": {
      "name": "python"
    }
  },
  "cells": [
    {
      "cell_type": "markdown",
      "metadata": {
        "id": "view-in-github",
        "colab_type": "text"
      },
      "source": [
        "<a href=\"https://colab.research.google.com/github/saihemath2000/machine-learning/blob/main/Pandas_assignment.ipynb\" target=\"_parent\"><img src=\"https://colab.research.google.com/assets/colab-badge.svg\" alt=\"Open In Colab\"/></a>"
      ]
    },
    {
      "cell_type": "code",
      "metadata": {
        "colab": {
          "base_uri": "https://localhost:8080/"
        },
        "id": "_uawCJRneetf",
        "outputId": "3761a7f3-0f98-4ddc-f288-04075576f515"
      },
      "source": [
        "#1.write a pandas program to sort a eries by its values and index od diamonds dataframe\n",
        "import pandas as pd\n",
        "import numpy as np\n",
        "data = pd.read_csv(\"diamonds.csv\")\n",
        "print(\"series sorted by its values:\")\n",
        "print(data.cut.value_counts().sort_values())\n",
        "print(\"\\nseries sorted by its index:\")\n",
        "print(data.cut.value_counts().sort_index())\n",
        "data.dtypes\n"
      ],
      "execution_count": null,
      "outputs": [
        {
          "output_type": "stream",
          "text": [
            "series sorted by its values:\n",
            "Fair          25\n",
            "Good          47\n",
            "Premium      123\n",
            "Very Good    125\n",
            "Ideal        142\n",
            "Name: cut, dtype: int64\n",
            "\n",
            "series sorted by its index:\n",
            "Fair          25\n",
            "Good          47\n",
            "Ideal        142\n",
            "Premium      123\n",
            "Very Good    125\n",
            "Name: cut, dtype: int64\n"
          ],
          "name": "stdout"
        },
        {
          "output_type": "execute_result",
          "data": {
            "text/plain": [
              "carat      float64\n",
              "cut         object\n",
              "color       object\n",
              "clarity     object\n",
              "depth      float64\n",
              "table      float64\n",
              "price        int64\n",
              "x          float64\n",
              "y          float64\n",
              "z          float64\n",
              "dtype: object"
            ]
          },
          "metadata": {
            "tags": []
          },
          "execution_count": 2
        }
      ]
    },
    {
      "cell_type": "code",
      "metadata": {
        "colab": {
          "base_uri": "https://localhost:8080/"
        },
        "id": "zJ6YTdDbiEnU",
        "outputId": "09984c15-1055-4c5a-891c-3ddd5a495c16"
      },
      "source": [
        "#2.write a pandas program to calculate the multiply of length,width and depth for each cut of diamonds dataframe\n",
        "print(\"Multiply of length, width and depth for each cut:\")\n",
        "a = data['x']\n",
        "b = data['y']\n",
        "c = data['z']\n",
        "print(a*b*c)"
      ],
      "execution_count": null,
      "outputs": [
        {
          "output_type": "stream",
          "text": [
            "Multiply of length, width and depth for each cut:\n",
            "0       38.202030\n",
            "1       34.505856\n",
            "2       38.076885\n",
            "3       46.724580\n",
            "4       51.917250\n",
            "          ...    \n",
            "457    116.023500\n",
            "458    116.175488\n",
            "459    116.709213\n",
            "460    148.184960\n",
            "461    108.584000\n",
            "Length: 462, dtype: float64\n"
          ],
          "name": "stdout"
        }
      ]
    },
    {
      "cell_type": "code",
      "metadata": {
        "colab": {
          "base_uri": "https://localhost:8080/"
        },
        "id": "iak0K8KNnyUx",
        "outputId": "ae61c400-dd3a-45da-be62-6692be2401e7"
      },
      "source": [
        "#3.write a pandas program to  concatenate diamonds data frame with color series\n",
        "import pandas as pd\n",
        "print(\"concatenating diamonds dataframe with color series:\")\n",
        "print(pd.concat([data,data.color],axis=1).head())"
      ],
      "execution_count": null,
      "outputs": [
        {
          "output_type": "stream",
          "text": [
            "concatenating diamonds dataframe with color series:\n",
            "   carat      cut color clarity  depth  table  price     x     y     z color\n",
            "0   0.23    Ideal     E     SI2   61.5   55.0    326  3.95  3.98  2.43     E\n",
            "1   0.21  Premium     E     SI1   59.8   61.0    326  3.89  3.84  2.31     E\n",
            "2   0.23     Good     E     VS1   56.9   65.0    327  4.05  4.07  2.31     E\n",
            "3   0.29  Premium     I     VS2   62.4   58.0    334  4.20  4.23  2.63     I\n",
            "4   0.31     Good     J     SI2   63.3   58.0    335  4.34  4.35  2.75     J\n"
          ],
          "name": "stdout"
        }
      ]
    },
    {
      "cell_type": "code",
      "metadata": {
        "colab": {
          "base_uri": "https://localhost:8080/"
        },
        "id": "vNihoZ2YqT4M",
        "outputId": "b64f168c-0500-441b-b955-4f0d044f40b7"
      },
      "source": [
        "#4.write a pandas program to read specified rows and all columns of diamond dataframe\n",
        "import pandas as pd\n",
        "print(\"reading first four rows:\")\n",
        "print(data[0:4])\n",
        "print(\"displaying all columns of diamond dataframe:\")\n",
        "print(data.loc[0,:])"
      ],
      "execution_count": null,
      "outputs": [
        {
          "output_type": "stream",
          "text": [
            "reading first four rows:\n",
            "   carat      cut color clarity  depth  table  price     x     y     z\n",
            "0   0.23    Ideal     E     SI2   61.5   55.0    326  3.95  3.98  2.43\n",
            "1   0.21  Premium     E     SI1   59.8   61.0    326  3.89  3.84  2.31\n",
            "2   0.23     Good     E     VS1   56.9   65.0    327  4.05  4.07  2.31\n",
            "3   0.29  Premium     I     VS2   62.4   58.0    334  4.20  4.23  2.63\n",
            "displaying all columns of diamond dataframe:\n",
            "   carat        cut color clarity  depth  table  price     x     y     z\n",
            "0   0.23      Ideal     E     SI2   61.5   55.0    326  3.95  3.98  2.43\n",
            "5   0.24  Very Good     J    VVS2   62.8   57.0    336  3.94  3.96  2.48\n",
            "7   0.26  Very Good     H     SI1   61.9   55.0    337  4.07  4.11  2.53\n"
          ],
          "name": "stdout"
        }
      ]
    },
    {
      "cell_type": "code",
      "metadata": {
        "colab": {
          "base_uri": "https://localhost:8080/"
        },
        "id": "iQd0rjf-sl2M",
        "outputId": "80f265fc-c771-477b-91c6-218f84db0e8b"
      },
      "source": [
        "#5.write a pandas program to read 0,5,7 rows and all columns of diamond dataframe\n",
        "print(\"displaying  0,5,7 rows and all columns of diamond dataframe:\")\n",
        "print(data.loc[[0,5,7],:])"
      ],
      "execution_count": null,
      "outputs": [
        {
          "output_type": "stream",
          "text": [
            "displaying  0,5,7 rows and all columns of diamond dataframe:\n",
            "   carat        cut color clarity  depth  table  price     x     y     z\n",
            "0   0.23      Ideal     E     SI2   61.5   55.0    326  3.95  3.98  2.43\n",
            "5   0.24  Very Good     J    VVS2   62.8   57.0    336  3.94  3.96  2.48\n",
            "7   0.26  Very Good     H     SI1   61.9   55.0    337  4.07  4.11  2.53\n"
          ],
          "name": "stdout"
        }
      ]
    },
    {
      "cell_type": "code",
      "metadata": {
        "colab": {
          "base_uri": "https://localhost:8080/"
        },
        "id": "EEztEuHmvUUV",
        "outputId": "3526132a-b8d9-424b-ed96-6f3ae7be3904"
      },
      "source": [
        "#6.write a pandas program to read rows 2 through 5 and all columns of diamond dataframe\n",
        "print(\"displaying rows two through five in diamond dataframe:\")\n",
        "print(data.loc[2:5:,])"
      ],
      "execution_count": null,
      "outputs": [
        {
          "output_type": "stream",
          "text": [
            "displaying rows two through five in diamond dataframe:\n",
            "   carat        cut color clarity  depth  table  price     x     y     z\n",
            "2   0.23       Good     E     VS1   56.9   65.0    327  4.05  4.07  2.31\n",
            "3   0.29    Premium     I     VS2   62.4   58.0    334  4.20  4.23  2.63\n",
            "4   0.31       Good     J     SI2   63.3   58.0    335  4.34  4.35  2.75\n",
            "5   0.24  Very Good     J    VVS2   62.8   57.0    336  3.94  3.96  2.48\n"
          ],
          "name": "stdout"
        }
      ]
    },
    {
      "cell_type": "code",
      "metadata": {
        "colab": {
          "base_uri": "https://localhost:8080/"
        },
        "id": "x0rK2PpWKurQ",
        "outputId": "e1965b38-8f01-4eff-8f4f-f5c96aef19a3"
      },
      "source": [
        "#7.write a pandas program to read rows 0 through 2(inclusive),columns color and price of diamonds dataframe\n",
        "print(\"read rows 0 through 2(inclusive),columns color and price of diamonds dataframe\")\n",
        "print(data.loc[:2,['color','price']])"
      ],
      "execution_count": 49,
      "outputs": [
        {
          "output_type": "stream",
          "text": [
            "read rows 0 through 2(inclusive),columns color and price of diamonds dataframe\n",
            "  color  price\n",
            "0     E    326\n",
            "1     E    326\n",
            "2     E    327\n"
          ],
          "name": "stdout"
        }
      ]
    },
    {
      "cell_type": "code",
      "metadata": {
        "id": "m23LNZJMyzeX",
        "colab": {
          "base_uri": "https://localhost:8080/"
        },
        "outputId": "69b25451-d8f8-471e-b375-3bedac337fd4"
      },
      "source": [
        "#8.write a pandas program to read rows rows 0 through 2(inclusive),columns color through price(inclusive) in diamond dataframe\n",
        "print(\"displaying rows 0 through 2(inclusive) and columns color through price(inclusive)\")                            \n",
        "#print(data.loc[:2,['color','clarity','depth','table','price']])\n",
        "print(data.loc[:2,'color':'price'])"
      ],
      "execution_count": 22,
      "outputs": [
        {
          "output_type": "stream",
          "text": [
            "displaying rows 0 through 2(inclusive) and columns color through price(inclusive)\n",
            "  color clarity  depth  table  price\n",
            "0     E     SI2   61.5   55.0    326\n",
            "1     E     SI1   59.8   61.0    326\n",
            "2     E     VS1   56.9   65.0    327\n"
          ],
          "name": "stdout"
        }
      ]
    },
    {
      "cell_type": "code",
      "metadata": {
        "colab": {
          "base_uri": "https://localhost:8080/"
        },
        "id": "K-yN7QDh2ENH",
        "outputId": "dea3f1f3-c471-4d5a-ab14-99ac03b09981"
      },
      "source": [
        "#9.write a pandas program to read rows in which the cut is premium and column color of diamond dataframe\n",
        "print(\"displaying rows in which cut is premium and only column color\")\n",
        "print(data.loc[data.cut=='Premium',['color']])"
      ],
      "execution_count": 27,
      "outputs": [
        {
          "output_type": "stream",
          "text": [
            "\n",
            "    color\n",
            "1       E\n",
            "3       I\n",
            "12      F\n",
            "14      E\n",
            "15      E\n",
            "..    ...\n",
            "451     E\n",
            "454     E\n",
            "456     E\n",
            "457     E\n",
            "459     E\n",
            "\n",
            "[123 rows x 1 columns]\n"
          ],
          "name": "stdout"
        }
      ]
    },
    {
      "cell_type": "code",
      "metadata": {
        "colab": {
          "base_uri": "https://localhost:8080/"
        },
        "id": "VeFgZvtc49ae",
        "outputId": "393d6c2b-d25b-4302-d9f0-8e54d9562ead"
      },
      "source": [
        "#10.write a pandas program to read rows in positions 0 and 1,columns in 0 and 3 of diamonds dataframe\n",
        "print(data.iloc[[0,1],[0,3]])"
      ],
      "execution_count": 30,
      "outputs": [
        {
          "output_type": "stream",
          "text": [
            "   carat clarity\n",
            "0   0.23     SI2\n",
            "1   0.21     SI1\n"
          ],
          "name": "stdout"
        }
      ]
    },
    {
      "cell_type": "code",
      "metadata": {
        "colab": {
          "base_uri": "https://localhost:8080/"
        },
        "id": "WU8x7YN17WZX",
        "outputId": "3e0d8c9c-4604-4af0-b35f-7c1d52e11fa0"
      },
      "source": [
        "#11.write a pandas program to read rows in positions 0 through 4,columns in positions 1 through 4 in diamonds dataframe\n",
        "print(data.iloc[0:5,1:5])"
      ],
      "execution_count": 36,
      "outputs": [
        {
          "output_type": "stream",
          "text": [
            "       cut color clarity  depth\n",
            "0    Ideal     E     SI2   61.5\n",
            "1  Premium     E     SI1   59.8\n",
            "2     Good     E     VS1   56.9\n",
            "3  Premium     I     VS2   62.4\n",
            "4     Good     J     SI2   63.3\n"
          ],
          "name": "stdout"
        }
      ]
    },
    {
      "cell_type": "code",
      "metadata": {
        "colab": {
          "base_uri": "https://localhost:8080/"
        },
        "id": "iuDNJ5E09Fn3",
        "outputId": "1e74d053-bd89-4df1-c346-6d627681e2e4"
      },
      "source": [
        "#12.write a pandas program to read rows in positions 0 through 4(exclusive) and all columns of diamond dataframe\n",
        "print(data.iloc[0:4,:])"
      ],
      "execution_count": 37,
      "outputs": [
        {
          "output_type": "stream",
          "text": [
            "   carat      cut color clarity  depth  table  price     x     y     z\n",
            "0   0.23    Ideal     E     SI2   61.5   55.0    326  3.95  3.98  2.43\n",
            "1   0.21  Premium     E     SI1   59.8   61.0    326  3.89  3.84  2.31\n",
            "2   0.23     Good     E     VS1   56.9   65.0    327  4.05  4.07  2.31\n",
            "3   0.29  Premium     I     VS2   62.4   58.0    334  4.20  4.23  2.63\n"
          ],
          "name": "stdout"
        }
      ]
    },
    {
      "cell_type": "code",
      "metadata": {
        "colab": {
          "base_uri": "https://localhost:8080/"
        },
        "id": "rt3XBhnn9unN",
        "outputId": "dd17cfcf-ac66-4442-87d6-11580dcfed5f"
      },
      "source": [
        "#13.write a pandas program to read rows 2 through 5(inclusive) ,columns in positions 0 through 2(exclusive) of diamonds dataframe\n",
        "print(data.iloc[2:6,0:2])"
      ],
      "execution_count": 38,
      "outputs": [
        {
          "output_type": "stream",
          "text": [
            "   carat        cut\n",
            "2   0.23       Good\n",
            "3   0.29    Premium\n",
            "4   0.31       Good\n",
            "5   0.24  Very Good\n"
          ],
          "name": "stdout"
        }
      ]
    },
    {
      "cell_type": "code",
      "metadata": {
        "colab": {
          "base_uri": "https://localhost:8080/"
        },
        "id": "SK0EGaDZ-VzV",
        "outputId": "ddf25686-69a2-452f-f4cc-81f6d6faeb94"
      },
      "source": [
        "#14.write a pandas program to print a concise summary of diamonds dataframe\n",
        "print(data.info())"
      ],
      "execution_count": 39,
      "outputs": [
        {
          "output_type": "stream",
          "text": [
            "<class 'pandas.core.frame.DataFrame'>\n",
            "RangeIndex: 462 entries, 0 to 461\n",
            "Data columns (total 10 columns):\n",
            " #   Column   Non-Null Count  Dtype  \n",
            "---  ------   --------------  -----  \n",
            " 0   carat    462 non-null    float64\n",
            " 1   cut      462 non-null    object \n",
            " 2   color    462 non-null    object \n",
            " 3   clarity  462 non-null    object \n",
            " 4   depth    462 non-null    float64\n",
            " 5   table    462 non-null    float64\n",
            " 6   price    462 non-null    int64  \n",
            " 7   x        462 non-null    float64\n",
            " 8   y        462 non-null    float64\n",
            " 9   z        462 non-null    float64\n",
            "dtypes: float64(6), int64(1), object(3)\n",
            "memory usage: 36.2+ KB\n",
            "None\n"
          ],
          "name": "stdout"
        }
      ]
    },
    {
      "cell_type": "code",
      "metadata": {
        "colab": {
          "base_uri": "https://localhost:8080/"
        },
        "id": "GlGgMDRf-1gE",
        "outputId": "011c3f39-46f7-43e5-cbe6-458505c30365"
      },
      "source": [
        "#15.write a pandas program to get true memory usage by diamonds dataframe\n",
        "print(data.info(memory_usage='deep'))"
      ],
      "execution_count": 40,
      "outputs": [
        {
          "output_type": "stream",
          "text": [
            "<class 'pandas.core.frame.DataFrame'>\n",
            "RangeIndex: 462 entries, 0 to 461\n",
            "Data columns (total 10 columns):\n",
            " #   Column   Non-Null Count  Dtype  \n",
            "---  ------   --------------  -----  \n",
            " 0   carat    462 non-null    float64\n",
            " 1   cut      462 non-null    object \n",
            " 2   color    462 non-null    object \n",
            " 3   clarity  462 non-null    object \n",
            " 4   depth    462 non-null    float64\n",
            " 5   table    462 non-null    float64\n",
            " 6   price    462 non-null    int64  \n",
            " 7   x        462 non-null    float64\n",
            " 8   y        462 non-null    float64\n",
            " 9   z        462 non-null    float64\n",
            "dtypes: float64(6), int64(1), object(3)\n",
            "memory usage: 107.3 KB\n",
            "None\n"
          ],
          "name": "stdout"
        }
      ]
    },
    {
      "cell_type": "code",
      "metadata": {
        "colab": {
          "base_uri": "https://localhost:8080/"
        },
        "id": "Wsf2T4XIE0V8",
        "outputId": "10ebd335-ff8f-457c-f5c6-2fa887dbc6b1"
      },
      "source": [
        "#16.Write a Pandas program to calculate the memory usage for each Series (in bytes) of diamonds DataFrame.\n",
        "print(\"\\nMemory usage for each Series (in bytes) of diamonds DataFrame:\")\n",
        "print(data.memory_usage(deep=True))"
      ],
      "execution_count": 42,
      "outputs": [
        {
          "output_type": "stream",
          "text": [
            "\n",
            "Memory usage for each Series (in bytes) of diamonds DataFrame:\n",
            "Index        128\n",
            "carat       3696\n",
            "cut        29318\n",
            "color      26796\n",
            "clarity    27757\n",
            "depth       3696\n",
            "table       3696\n",
            "price       3696\n",
            "x           3696\n",
            "y           3696\n",
            "z           3696\n",
            "dtype: int64\n"
          ],
          "name": "stdout"
        }
      ]
    },
    {
      "cell_type": "code",
      "metadata": {
        "colab": {
          "base_uri": "https://localhost:8080/"
        },
        "id": "P-u79jUnFZ9D",
        "outputId": "f95a5b85-815f-4bec-afa5-5f9081acba2d"
      },
      "source": [
        "#17.write a pandas program to get randomly sample rows from diamonds dataframe\n",
        "print(\"Sample 5 rows from the DataFrame:\")\n",
        "print(data.sample(n=5))"
      ],
      "execution_count": 44,
      "outputs": [
        {
          "output_type": "stream",
          "text": [
            "Sample 5 rows from the DataFrame:\n",
            "     carat        cut color clarity  depth  table  price     x     y     z\n",
            "345   0.70  Very Good     D     SI1   62.3   58.0   2804  5.69  5.73  3.56\n",
            "396   0.30    Premium     H     SI1   60.9   59.0    554  4.31  4.29  2.62\n",
            "1     0.21    Premium     E     SI1   59.8   61.0    326  3.89  3.84  2.31\n",
            "18    0.30       Good     J     SI1   63.8   56.0    351  4.23  4.26  2.71\n",
            "38    0.26  Very Good     D     VS2   60.8   59.0    403  4.13  4.16  2.52\n"
          ],
          "name": "stdout"
        }
      ]
    },
    {
      "cell_type": "code",
      "metadata": {
        "colab": {
          "base_uri": "https://localhost:8080/"
        },
        "id": "InsUqzndF998",
        "outputId": "d1079bf2-096e-42da-f003-64c58a958a76"
      },
      "source": [
        "#18.write a pandas program to get sample 75% of the diamonds dataframes rows without replacement and store remaining 25% of the rows in another dataframe\n",
        "print(\"\\nSample 75% of diamonds DataFrame's rows without replacement:\")\n",
        "K = data.sample(frac=0.75, random_state=99)\n",
        "print(K)\n",
        "print(\"\\nRemaining 25% of the rows:\")\n",
        "print(data.loc[~data.index.isin(K.index), :])"
      ],
      "execution_count": 45,
      "outputs": [
        {
          "output_type": "stream",
          "text": [
            "\n",
            "Sample 75% of diamonds DataFrame's rows without replacement:\n",
            "     carat        cut color clarity  depth  table  price     x     y     z\n",
            "285   0.73       Good     E     SI1   63.2   58.0   2796  5.70  5.76  3.62\n",
            "423   0.99       Fair     J     SI1   55.0   61.0   2812  6.72  6.67  3.68\n",
            "448   0.78    Premium     F     SI1   61.5   59.0   2816  5.96  5.88  3.64\n",
            "100   0.75  Very Good     D     SI1   63.2   56.0   2760  5.80  5.75  3.65\n",
            "46    0.32  Very Good     H     SI2   61.8   55.0    403  4.35  4.42  2.71\n",
            "..     ...        ...   ...     ...    ...    ...    ...   ...   ...   ...\n",
            "78    0.26  Very Good     D    VVS2   62.8   60.0    554  4.01  4.05  2.53\n",
            "320   0.71       Good     F     VS2   57.8   60.0   2801  5.90  5.87  3.40\n",
            "382   0.75  Very Good     F     SI1   63.4   58.0   2811  5.72  5.76  3.64\n",
            "456   0.71    Premium     E     SI1   59.2   59.0   2817  5.86  5.83  3.46\n",
            "417   0.36      Ideal     I     VS2   61.9   56.0    556  4.54  4.57  2.82\n",
            "\n",
            "[346 rows x 10 columns]\n",
            "\n",
            "Remaining 25% of the rows:\n",
            "     carat        cut color clarity  depth  table  price     x     y     z\n",
            "0     0.23      Ideal     E     SI2   61.5   55.0    326  3.95  3.98  2.43\n",
            "11    0.23      Ideal     J     VS1   62.8   56.0    340  3.93  3.90  2.46\n",
            "17    0.30       Good     J     SI1   63.4   54.0    351  4.23  4.29  2.70\n",
            "19    0.30  Very Good     J     SI1   62.7   59.0    351  4.21  4.27  2.66\n",
            "20    0.30       Good     I     SI2   63.3   56.0    351  4.26  4.30  2.71\n",
            "..     ...        ...   ...     ...    ...    ...    ...   ...   ...   ...\n",
            "436   0.70      Ideal     H     SI1   61.4   56.0   2815  5.70  5.76  3.52\n",
            "438   0.70      Ideal     H     SI1   61.4   56.0   2815  5.72  5.77  3.53\n",
            "444   1.02    Premium     G      I1   60.3   58.0   2815  6.55  6.50  3.94\n",
            "445   0.78  Very Good     I    VVS2   61.4   56.0   2816  5.91  5.95  3.64\n",
            "446   0.61      Ideal     G    VVS2   60.1   57.0   2816  5.52  5.54  3.32\n",
            "\n",
            "[116 rows x 10 columns]\n"
          ],
          "name": "stdout"
        }
      ]
    },
    {
      "cell_type": "code",
      "metadata": {
        "colab": {
          "base_uri": "https://localhost:8080/"
        },
        "id": "UYa9eYL5Ha0g",
        "outputId": "fed9d740-e691-4de1-c243-562885049ea0"
      },
      "source": [
        "#19.write a pandas program to read diamonds dataframe and detect duplicate color\n",
        "print(\"reading diamonds DataFrame and detecting duplicate color.\")\n",
        "print(data.color.duplicated())"
      ],
      "execution_count": 48,
      "outputs": [
        {
          "output_type": "stream",
          "text": [
            "reading diamonds DataFrame and detecting duplicate color.\n",
            "0      False\n",
            "1       True\n",
            "2       True\n",
            "3      False\n",
            "4      False\n",
            "       ...  \n",
            "457     True\n",
            "458     True\n",
            "459     True\n",
            "460     True\n",
            "461     True\n",
            "Name: color, Length: 462, dtype: bool\n"
          ],
          "name": "stdout"
        }
      ]
    },
    {
      "cell_type": "code",
      "metadata": {
        "colab": {
          "base_uri": "https://localhost:8080/"
        },
        "id": "k5C6jfelNhP4",
        "outputId": "0bd939be-0587-471a-bb26-8a78dd64562a"
      },
      "source": [
        "#20.write a pandas program to count the duplicate rows of diamonds dataframe \n",
        "print(data.duplicated().sum())     #in my diamonds dataset there are no duplicate rows present"
      ],
      "execution_count": 52,
      "outputs": [
        {
          "output_type": "stream",
          "text": [
            "0\n"
          ],
          "name": "stdout"
        }
      ]
    }
  ]
}