{
  "nbformat": 4,
  "nbformat_minor": 0,
  "metadata": {
    "colab": {
      "name": "Pandas_assignment.ipynb",
      "provenance": [],
      "authorship_tag": "ABX9TyOzJafLvotjBwCD/AvAzxJK",
      "include_colab_link": true
    },
    "kernelspec": {
      "name": "python3",
      "display_name": "Python 3"
    },
    "language_info": {
      "name": "python"
    }
  },
  "cells": [
    {
      "cell_type": "markdown",
      "metadata": {
        "id": "view-in-github",
        "colab_type": "text"
      },
      "source": [
        "<a href=\"https://colab.research.google.com/github/saihemath2000/machine-learning/blob/main/Pandas_assignment.ipynb\" target=\"_parent\"><img src=\"https://colab.research.google.com/assets/colab-badge.svg\" alt=\"Open In Colab\"/></a>"
      ]
    },
    {
      "cell_type": "code",
      "metadata": {
        "colab": {
          "base_uri": "https://localhost:8080/"
        },
        "id": "_uawCJRneetf",
        "outputId": "3b602c81-2c18-4bd5-8776-d79db2582c9b"
      },
      "source": [
        "#write a pandas program to sort a eries by its values and index od diamonds dataframe\n",
        "import pandas as pd\n",
        "import numpy as np\n",
        "data = pd.read_csv(\"diamonds.csv\")\n",
        "print(\"series sorted by its values:\")\n",
        "print(data.cut.value_counts().sort_values())\n",
        "print(\"\\nseries sorted by its index:\")\n",
        "print(data.cut.value_counts().sort_index())\n",
        "data.dtypes\n"
      ],
      "execution_count": 8,
      "outputs": [
        {
          "output_type": "stream",
          "text": [
            "series sorted by its values:\n",
            "Fair          25\n",
            "Good          47\n",
            "Premium      123\n",
            "Very Good    125\n",
            "Ideal        142\n",
            "Name: cut, dtype: int64\n",
            "\n",
            "series sorted by its index:\n",
            "Fair          25\n",
            "Good          47\n",
            "Ideal        142\n",
            "Premium      123\n",
            "Very Good    125\n",
            "Name: cut, dtype: int64\n"
          ],
          "name": "stdout"
        },
        {
          "output_type": "execute_result",
          "data": {
            "text/plain": [
              "carat      float64\n",
              "cut         object\n",
              "color       object\n",
              "clarity     object\n",
              "depth      float64\n",
              "table      float64\n",
              "price        int64\n",
              "x          float64\n",
              "y          float64\n",
              "z          float64\n",
              "dtype: object"
            ]
          },
          "metadata": {
            "tags": []
          },
          "execution_count": 8
        }
      ]
    },
    {
      "cell_type": "code",
      "metadata": {
        "colab": {
          "base_uri": "https://localhost:8080/"
        },
        "id": "zJ6YTdDbiEnU",
        "outputId": "09984c15-1055-4c5a-891c-3ddd5a495c16"
      },
      "source": [
        "#write a pandas program to calculate the multiply of length,width and depth for each cut of diamonds dataframe\n",
        "print(\"Multiply of length, width and depth for each cut:\")\n",
        "a = data['x']\n",
        "b = data['y']\n",
        "c = data['z']\n",
        "print(a*b*c)"
      ],
      "execution_count": 22,
      "outputs": [
        {
          "output_type": "stream",
          "text": [
            "Multiply of length, width and depth for each cut:\n",
            "0       38.202030\n",
            "1       34.505856\n",
            "2       38.076885\n",
            "3       46.724580\n",
            "4       51.917250\n",
            "          ...    \n",
            "457    116.023500\n",
            "458    116.175488\n",
            "459    116.709213\n",
            "460    148.184960\n",
            "461    108.584000\n",
            "Length: 462, dtype: float64\n"
          ],
          "name": "stdout"
        }
      ]
    }
  ]
}