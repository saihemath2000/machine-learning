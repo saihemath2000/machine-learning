{
  "nbformat": 4,
  "nbformat_minor": 0,
  "metadata": {
    "colab": {
      "name": "lambda functions.ipynb",
      "provenance": [],
      "collapsed_sections": [],
      "authorship_tag": "ABX9TyMpMCkbHEd9zxqnkn8NGPAw",
      "include_colab_link": true
    },
    "kernelspec": {
      "name": "python3",
      "display_name": "Python 3"
    },
    "language_info": {
      "name": "python"
    }
  },
  "cells": [
    {
      "cell_type": "markdown",
      "metadata": {
        "id": "view-in-github",
        "colab_type": "text"
      },
      "source": [
        "<a href=\"https://colab.research.google.com/github/saihemath2000/machine-learning/blob/main/lambda_functions.ipynb\" target=\"_parent\"><img src=\"https://colab.research.google.com/assets/colab-badge.svg\" alt=\"Open In Colab\"/></a>"
      ]
    },
    {
      "cell_type": "code",
      "metadata": {
        "colab": {
          "base_uri": "https://localhost:8080/"
        },
        "id": "CJGufD1uVS6K",
        "outputId": "c1642ff9-ebdd-46fb-e755-87b29697686e"
      },
      "source": [
        "#sample program explaining lambda use,lamda is an anonymous function\n",
        "double = lambda x:x/2\n",
        "print(double(2))"
      ],
      "execution_count": 1,
      "outputs": [
        {
          "output_type": "stream",
          "text": [
            "1.0\n"
          ],
          "name": "stdout"
        }
      ]
    },
    {
      "cell_type": "code",
      "metadata": {
        "colab": {
          "base_uri": "https://localhost:8080/"
        },
        "id": "Lezy-2aXYBhy",
        "outputId": "f9f1a750-d1c6-47fb-8eb4-eb780e065ded"
      },
      "source": [
        "#filter takes anonymous fun and list as arguments\n",
        "#program to filter out even items from a list\n",
        "list1 = [2,3,1,4,5,10,22,12,55]\n",
        "my_filter = list(filter(lambda x:(x%2==0),list1))\n",
        "print(my_filter)\n"
      ],
      "execution_count": 3,
      "outputs": [
        {
          "output_type": "stream",
          "text": [
            "[2, 4, 10, 22, 12]\n"
          ],
          "name": "stdout"
        }
      ]
    },
    {
      "cell_type": "code",
      "metadata": {
        "colab": {
          "base_uri": "https://localhost:8080/"
        },
        "id": "_dce-L-vZFt4",
        "outputId": "ca4c5312-5576-4254-bd81-e67baa62bb9f"
      },
      "source": [
        "#map function in python takes in a function and a list\n",
        "#program to double each item in a list using map()\n",
        "my_map = list(map(lambda x:x*2,list1))\n",
        "print(my_map)"
      ],
      "execution_count": 4,
      "outputs": [
        {
          "output_type": "stream",
          "text": [
            "[4, 6, 2, 8, 10, 20, 44, 24, 110]\n"
          ],
          "name": "stdout"
        }
      ]
    },
    {
      "cell_type": "code",
      "metadata": {
        "colab": {
          "base_uri": "https://localhost:8080/"
        },
        "id": "ODQFBBcxaDd-",
        "outputId": "44d067f0-eb0d-42fd-ad25-69279be19e33"
      },
      "source": [
        "#global variable \n",
        "x=\"global\"\n",
        "def test():\n",
        "  print(x+\"inside\")\n",
        "test()  \n",
        "print(x+\"outside\")  "
      ],
      "execution_count": 7,
      "outputs": [
        {
          "output_type": "stream",
          "text": [
            "globalinside\n",
            "globaloutside\n"
          ],
          "name": "stdout"
        }
      ]
    },
    {
      "cell_type": "code",
      "metadata": {
        "colab": {
          "base_uri": "https://localhost:8080/"
        },
        "id": "x_YSA6TObJe6",
        "outputId": "1e669e5b-16f5-48df-bf3b-98557601d323"
      },
      "source": [
        "#manipulating global variable inside the function\n",
        "x=\"global\"\n",
        "def manipulate():\n",
        "  global x\n",
        "  y=\"local\"\n",
        "  print(y,end=\" \")\n",
        "  print(x*2)\n",
        "manipulate()  "
      ],
      "execution_count": 9,
      "outputs": [
        {
          "output_type": "stream",
          "text": [
            "local globalglobal\n"
          ],
          "name": "stdout"
        }
      ]
    },
    {
      "cell_type": "code",
      "metadata": {
        "colab": {
          "base_uri": "https://localhost:8080/"
        },
        "id": "W8hQ5q9zcfWJ",
        "outputId": "df462489-96a1-4bcc-a9a4-80d88bffcaf4"
      },
      "source": [
        "#nonlocal variables are used in nested functions whose local scope is not defined.This means the variable can be neither in the local or global scope\n",
        "def outer():\n",
        "  x=\"local\"\n",
        "  def inner():\n",
        "    nonlocal x\n",
        "    x=\"nonlocal\"\n",
        "    print(x+\"inner\")\n",
        "  inner()\n",
        "  print(x+\"outer\") \n",
        "outer()   \n"
      ],
      "execution_count": 10,
      "outputs": [
        {
          "output_type": "stream",
          "text": [
            "nonlocalinner\n",
            "nonlocalouter\n"
          ],
          "name": "stdout"
        }
      ]
    },
    {
      "cell_type": "code",
      "metadata": {
        "colab": {
          "base_uri": "https://localhost:8080/"
        },
        "id": "EHqRvW_afjZn",
        "outputId": "9f9ffcfc-bb6c-4da7-845f-2e15844c1854"
      },
      "source": [
        "#importing userdefined packages,package is collection of modules\n",
        "import example\n",
        "example.add(4,5)"
      ],
      "execution_count": 11,
      "outputs": [
        {
          "output_type": "stream",
          "text": [
            "9\n"
          ],
          "name": "stdout"
        }
      ]
    },
    {
      "cell_type": "code",
      "metadata": {
        "colab": {
          "base_uri": "https://localhost:8080/"
        },
        "id": "BkDRwOpLg2ZD",
        "outputId": "b0946c79-006e-44df-ba6d-22d164b6f604"
      },
      "source": [
        "#importing predefined functions\n",
        "import math\n",
        "print(\"the value of pi is:\",math.pi)\n",
        "import math as m\n",
        "print(\"the value of pi is:\",m.pi) #rename and import\n",
        "from math import pi\n",
        "print(\"the value of pi is:\",pi)\n",
        "from math import *\n",
        "print(\"the value of pi is:\",pi)"
      ],
      "execution_count": 13,
      "outputs": [
        {
          "output_type": "stream",
          "text": [
            "the value of pi is: 3.141592653589793\n",
            "the value of pi is: 3.141592653589793\n",
            "the value of pi is: 3.141592653589793\n",
            "the value of pi is: 3.141592653589793\n"
          ],
          "name": "stdout"
        }
      ]
    },
    {
      "cell_type": "code",
      "metadata": {
        "colab": {
          "base_uri": "https://localhost:8080/",
          "height": 35
        },
        "id": "YgdIn1Ufhnw6",
        "outputId": "6296160b-8200-456d-c831-29b46f7589fe"
      },
      "source": [
        "#dir function\n",
        "dir(math) #1\n",
        "#dir(example) 2\n",
        "dir() #3\n",
        "import math #4\n",
        "math.__name__\n",
        "import sys #5\n",
        "sys.path\n",
        "import example #6\n",
        "example.__file__"
      ],
      "execution_count": 20,
      "outputs": [
        {
          "output_type": "execute_result",
          "data": {
            "application/vnd.google.colaboratory.intrinsic+json": {
              "type": "string"
            },
            "text/plain": [
              "'/content/example.py'"
            ]
          },
          "metadata": {
            "tags": []
          },
          "execution_count": 20
        }
      ]
    },
    {
      "cell_type": "code",
      "metadata": {
        "id": "jA8PpylxjdoD"
      },
      "source": [
        "#installing packages with the help of pip\n",
        "pip install somepackage #install package from pypi\n",
        "pip show --files somepackage #show what files were installed\n",
        "pip list --outdated #list what packages are outdated\n",
        "pip install --upgrade somepackage #upgrade a package\n",
        "pip uninstall somepackage #uninstall a package\n"
      ],
      "execution_count": null,
      "outputs": []
    },
    {
      "cell_type": "code",
      "metadata": {
        "id": "1lL3xnaalnPs"
      },
      "source": [
        ""
      ],
      "execution_count": 27,
      "outputs": []
    }
  ]
}