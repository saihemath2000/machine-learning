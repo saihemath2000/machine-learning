{
  "nbformat": 4,
  "nbformat_minor": 0,
  "metadata": {
    "colab": {
      "name": "dataframes_pandas.ipynb",
      "provenance": [],
      "authorship_tag": "ABX9TyNUP26LGvNjMn7RHjHWa3aH",
      "include_colab_link": true
    },
    "kernelspec": {
      "name": "python3",
      "display_name": "Python 3"
    },
    "language_info": {
      "name": "python"
    }
  },
  "cells": [
    {
      "cell_type": "markdown",
      "metadata": {
        "id": "view-in-github",
        "colab_type": "text"
      },
      "source": [
        "<a href=\"https://colab.research.google.com/github/saihemath2000/machine-learning/blob/main/dataframes_pandas.ipynb\" target=\"_parent\"><img src=\"https://colab.research.google.com/assets/colab-badge.svg\" alt=\"Open In Colab\"/></a>"
      ]
    },
    {
      "cell_type": "code",
      "metadata": {
        "colab": {
          "base_uri": "https://localhost:8080/",
          "height": 173
        },
        "id": "P2SJi3CCCol2",
        "outputId": "d6a6eb78-8af0-49e4-ae72-3a835b54d71c"
      },
      "source": [
        "#data frame creation and display using pandas\n",
        "import pandas as pd\n",
        "#create data\n",
        "name=['mango','orange','pineapple','banana']\n",
        "color=['juicyyellow','orange','mildyellow','yellow']\n",
        "cost=['50','40','60','50']\n",
        "season=['summer','summer','spring','alltime']\n",
        "#create and display data\n",
        "headers=('fruits','colour','costperkg','time')\n",
        "data=(name,color,cost,season)\n",
        "data_dict= dict(zip(headers,data))\n",
        "df1 = pd.DataFrame(data_dict)\n",
        "df1"
      ],
      "execution_count": 1,
      "outputs": [
        {
          "output_type": "execute_result",
          "data": {
            "text/html": [
              "<div>\n",
              "<style scoped>\n",
              "    .dataframe tbody tr th:only-of-type {\n",
              "        vertical-align: middle;\n",
              "    }\n",
              "\n",
              "    .dataframe tbody tr th {\n",
              "        vertical-align: top;\n",
              "    }\n",
              "\n",
              "    .dataframe thead th {\n",
              "        text-align: right;\n",
              "    }\n",
              "</style>\n",
              "<table border=\"1\" class=\"dataframe\">\n",
              "  <thead>\n",
              "    <tr style=\"text-align: right;\">\n",
              "      <th></th>\n",
              "      <th>fruits</th>\n",
              "      <th>colour</th>\n",
              "      <th>costperkg</th>\n",
              "      <th>time</th>\n",
              "    </tr>\n",
              "  </thead>\n",
              "  <tbody>\n",
              "    <tr>\n",
              "      <th>0</th>\n",
              "      <td>mango</td>\n",
              "      <td>juicyyellow</td>\n",
              "      <td>50</td>\n",
              "      <td>summer</td>\n",
              "    </tr>\n",
              "    <tr>\n",
              "      <th>1</th>\n",
              "      <td>orange</td>\n",
              "      <td>orange</td>\n",
              "      <td>40</td>\n",
              "      <td>summer</td>\n",
              "    </tr>\n",
              "    <tr>\n",
              "      <th>2</th>\n",
              "      <td>pineapple</td>\n",
              "      <td>mildyellow</td>\n",
              "      <td>60</td>\n",
              "      <td>spring</td>\n",
              "    </tr>\n",
              "    <tr>\n",
              "      <th>3</th>\n",
              "      <td>banana</td>\n",
              "      <td>yellow</td>\n",
              "      <td>50</td>\n",
              "      <td>alltime</td>\n",
              "    </tr>\n",
              "  </tbody>\n",
              "</table>\n",
              "</div>"
            ],
            "text/plain": [
              "      fruits       colour costperkg     time\n",
              "0      mango  juicyyellow        50   summer\n",
              "1     orange       orange        40   summer\n",
              "2  pineapple   mildyellow        60   spring\n",
              "3     banana       yellow        50  alltime"
            ]
          },
          "metadata": {
            "tags": []
          },
          "execution_count": 1
        }
      ]
    },
    {
      "cell_type": "code",
      "metadata": {
        "colab": {
          "base_uri": "https://localhost:8080/",
          "height": 173
        },
        "id": "V0TwVYpqTONQ",
        "outputId": "24774e85-db5c-4e63-acad-81c215189243"
      },
      "source": [
        "#singlecolumn,multiplecolumn,multiplerowselection in dataframes\n",
        "df1[\"fruits\"].head(4)\n",
        "df1[[\"fruits\"]].head(4)\n",
        "df1[0:4]"
      ],
      "execution_count": 23,
      "outputs": [
        {
          "output_type": "execute_result",
          "data": {
            "text/html": [
              "<div>\n",
              "<style scoped>\n",
              "    .dataframe tbody tr th:only-of-type {\n",
              "        vertical-align: middle;\n",
              "    }\n",
              "\n",
              "    .dataframe tbody tr th {\n",
              "        vertical-align: top;\n",
              "    }\n",
              "\n",
              "    .dataframe thead th {\n",
              "        text-align: right;\n",
              "    }\n",
              "</style>\n",
              "<table border=\"1\" class=\"dataframe\">\n",
              "  <thead>\n",
              "    <tr style=\"text-align: right;\">\n",
              "      <th></th>\n",
              "      <th>fruits</th>\n",
              "      <th>colour</th>\n",
              "      <th>costperkg</th>\n",
              "      <th>time</th>\n",
              "    </tr>\n",
              "  </thead>\n",
              "  <tbody>\n",
              "    <tr>\n",
              "      <th>0</th>\n",
              "      <td>mango</td>\n",
              "      <td>juicyyellow</td>\n",
              "      <td>50</td>\n",
              "      <td>summer</td>\n",
              "    </tr>\n",
              "    <tr>\n",
              "      <th>1</th>\n",
              "      <td>orange</td>\n",
              "      <td>orange</td>\n",
              "      <td>40</td>\n",
              "      <td>summer</td>\n",
              "    </tr>\n",
              "    <tr>\n",
              "      <th>2</th>\n",
              "      <td>pineapple</td>\n",
              "      <td>mildyellow</td>\n",
              "      <td>60</td>\n",
              "      <td>spring</td>\n",
              "    </tr>\n",
              "    <tr>\n",
              "      <th>3</th>\n",
              "      <td>banana</td>\n",
              "      <td>yellow</td>\n",
              "      <td>50</td>\n",
              "      <td>alltime</td>\n",
              "    </tr>\n",
              "  </tbody>\n",
              "</table>\n",
              "</div>"
            ],
            "text/plain": [
              "      fruits       colour costperkg     time\n",
              "0      mango  juicyyellow        50   summer\n",
              "1     orange       orange        40   summer\n",
              "2  pineapple   mildyellow        60   spring\n",
              "3     banana       yellow        50  alltime"
            ]
          },
          "metadata": {
            "tags": []
          },
          "execution_count": 23
        }
      ]
    },
    {
      "cell_type": "code",
      "metadata": {
        "colab": {
          "base_uri": "https://localhost:8080/"
        },
        "id": "YWl0gTc1Oh4R",
        "outputId": "c819cbb3-5424-4f0a-ccf4-542e3e8ca960"
      },
      "source": [
        "import pandas as pd\n",
        "import numpy as np\n",
        "data = pd.read_csv(\"sam.csv\")\n",
        "type(data)"
      ],
      "execution_count": 2,
      "outputs": [
        {
          "output_type": "execute_result",
          "data": {
            "text/plain": [
              "pandas.core.frame.DataFrame"
            ]
          },
          "metadata": {
            "tags": []
          },
          "execution_count": 2
        }
      ]
    },
    {
      "cell_type": "code",
      "metadata": {
        "colab": {
          "base_uri": "https://localhost:8080/"
        },
        "id": "p6fRNmovO2tB",
        "outputId": "eed1b49c-50db-48f4-82c3-0f669b40b3dd"
      },
      "source": [
        "data.dtypes"
      ],
      "execution_count": 5,
      "outputs": [
        {
          "output_type": "execute_result",
          "data": {
            "text/plain": [
              "City               object\n",
              "Colors Reported    object\n",
              "Shape Reported     object\n",
              "State              object\n",
              "Time               object\n",
              "dtype: object"
            ]
          },
          "metadata": {
            "tags": []
          },
          "execution_count": 5
        }
      ]
    },
    {
      "cell_type": "code",
      "metadata": {
        "colab": {
          "base_uri": "https://localhost:8080/"
        },
        "id": "4-kDvSueQFPw",
        "outputId": "17a3af61-df47-4ac7-9831-220007dacf56"
      },
      "source": [
        "data.isnull().sum()"
      ],
      "execution_count": 6,
      "outputs": [
        {
          "output_type": "execute_result",
          "data": {
            "text/plain": [
              "City                  25\n",
              "Colors Reported    15359\n",
              "Shape Reported      2644\n",
              "State                  0\n",
              "Time                   0\n",
              "dtype: int64"
            ]
          },
          "metadata": {
            "tags": []
          },
          "execution_count": 6
        }
      ]
    },
    {
      "cell_type": "code",
      "metadata": {
        "colab": {
          "base_uri": "https://localhost:8080/"
        },
        "id": "ztYYUzqiRgYa",
        "outputId": "b81f7bd2-534a-48cf-a474-bc90f903085b"
      },
      "source": [
        "data['Colors Reported'].unique()"
      ],
      "execution_count": 7,
      "outputs": [
        {
          "output_type": "execute_result",
          "data": {
            "text/plain": [
              "array([nan, 'RED', 'GREEN', 'BLUE', 'ORANGE', 'YELLOW', 'ORANGE YELLOW',\n",
              "       'RED GREEN', 'RED BLUE', 'RED ORANGE', 'RED GREEN BLUE',\n",
              "       'RED YELLOW GREEN', 'RED YELLOW', 'GREEN BLUE',\n",
              "       'ORANGE GREEN BLUE', 'ORANGE GREEN', 'YELLOW GREEN',\n",
              "       'RED YELLOW BLUE', 'ORANGE BLUE', 'RED YELLOW GREEN BLUE',\n",
              "       'YELLOW GREEN BLUE', 'RED ORANGE YELLOW', 'RED ORANGE YELLOW BLUE',\n",
              "       'YELLOW BLUE', 'RED ORANGE GREEN', 'RED ORANGE BLUE',\n",
              "       'ORANGE YELLOW GREEN', 'ORANGE YELLOW BLUE'], dtype=object)"
            ]
          },
          "metadata": {
            "tags": []
          },
          "execution_count": 7
        }
      ]
    },
    {
      "cell_type": "code",
      "metadata": {
        "colab": {
          "base_uri": "https://localhost:8080/"
        },
        "id": "aYtuA_o4QByn",
        "outputId": "f63a8920-bd0a-46d5-eb5b-a2f3604eb405"
      },
      "source": [
        "data.shape\n",
        "#\n"
      ],
      "execution_count": 4,
      "outputs": [
        {
          "output_type": "execute_result",
          "data": {
            "text/plain": [
              "(18241, 5)"
            ]
          },
          "metadata": {
            "tags": []
          },
          "execution_count": 4
        }
      ]
    },
    {
      "cell_type": "code",
      "metadata": {
        "colab": {
          "base_uri": "https://localhost:8080/"
        },
        "id": "t5MI5lAzRrgs",
        "outputId": "0f1154b8-be9a-4304-a2b5-ade39342f8a8"
      },
      "source": [
        "data['Colors Reported'].head(13)"
      ],
      "execution_count": 11,
      "outputs": [
        {
          "output_type": "execute_result",
          "data": {
            "text/plain": [
              "0     NaN\n",
              "1     NaN\n",
              "2     NaN\n",
              "3     NaN\n",
              "4     NaN\n",
              "5     NaN\n",
              "6     NaN\n",
              "7     NaN\n",
              "8     NaN\n",
              "9     NaN\n",
              "10    NaN\n",
              "11    NaN\n",
              "Name: Colors Reported, dtype: object"
            ]
          },
          "metadata": {
            "tags": []
          },
          "execution_count": 11
        }
      ]
    },
    {
      "cell_type": "code",
      "metadata": {
        "colab": {
          "base_uri": "https://localhost:8080/"
        },
        "id": "iF_0zU22SWZS",
        "outputId": "0bfb871d-7836-418c-ccb2-9422e66c77bf"
      },
      "source": [
        "categories = {\"Colors Reported\":{\"RED\":1}}\n",
        "data.replace(categories,inplace=True)\n",
        "data['Colors Reported'].head(13)\n",
        "#we can find mean for numerical data columns and replace original with mean\n",
        "#by using syntax as x=np.mean(data['column_name']) and replace it with x\n"
      ],
      "execution_count": 15,
      "outputs": [
        {
          "output_type": "execute_result",
          "data": {
            "text/plain": [
              "0     NaN\n",
              "1     NaN\n",
              "2     NaN\n",
              "3     NaN\n",
              "4     NaN\n",
              "5     NaN\n",
              "6     NaN\n",
              "7     NaN\n",
              "8     NaN\n",
              "9     NaN\n",
              "10    NaN\n",
              "11    NaN\n",
              "12      1\n",
              "Name: Colors Reported, dtype: object"
            ]
          },
          "metadata": {
            "tags": []
          },
          "execution_count": 15
        }
      ]
    },
    {
      "cell_type": "code",
      "metadata": {
        "id": "W0o1Q3DSVv32"
      },
      "source": [
        ""
      ],
      "execution_count": null,
      "outputs": []
    }
  ]
}