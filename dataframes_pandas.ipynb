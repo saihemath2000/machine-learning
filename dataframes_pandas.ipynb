{
  "nbformat": 4,
  "nbformat_minor": 0,
  "metadata": {
    "colab": {
      "name": "dataframes_pandas.ipynb",
      "provenance": [],
      "collapsed_sections": [],
      "authorship_tag": "ABX9TyMJyVsWwG74tqeAbVNstoli",
      "include_colab_link": true
    },
    "kernelspec": {
      "name": "python3",
      "display_name": "Python 3"
    },
    "language_info": {
      "name": "python"
    }
  },
  "cells": [
    {
      "cell_type": "markdown",
      "metadata": {
        "id": "view-in-github",
        "colab_type": "text"
      },
      "source": [
        "<a href=\"https://colab.research.google.com/github/saihemath2000/machine-learning/blob/main/dataframes_pandas.ipynb\" target=\"_parent\"><img src=\"https://colab.research.google.com/assets/colab-badge.svg\" alt=\"Open In Colab\"/></a>"
      ]
    },
    {
      "cell_type": "code",
      "metadata": {
        "colab": {
          "base_uri": "https://localhost:8080/",
          "height": 173
        },
        "id": "P2SJi3CCCol2",
        "outputId": "d6a6eb78-8af0-49e4-ae72-3a835b54d71c"
      },
      "source": [
        "#data frame creation and display using pandas\n",
        "import pandas as pd\n",
        "#create data\n",
        "name=['mango','orange','pineapple','banana']\n",
        "color=['juicyyellow','orange','mildyellow','yellow']\n",
        "cost=['50','40','60','50']\n",
        "season=['summer','summer','spring','alltime']\n",
        "#create and display data\n",
        "headers=('fruits','colour','costperkg','time')\n",
        "data=(name,color,cost,season)\n",
        "data_dict= dict(zip(headers,data))\n",
        "df1 = pd.DataFrame(data_dict)\n",
        "df1"
      ],
      "execution_count": null,
      "outputs": [
        {
          "output_type": "execute_result",
          "data": {
            "text/html": [
              "<div>\n",
              "<style scoped>\n",
              "    .dataframe tbody tr th:only-of-type {\n",
              "        vertical-align: middle;\n",
              "    }\n",
              "\n",
              "    .dataframe tbody tr th {\n",
              "        vertical-align: top;\n",
              "    }\n",
              "\n",
              "    .dataframe thead th {\n",
              "        text-align: right;\n",
              "    }\n",
              "</style>\n",
              "<table border=\"1\" class=\"dataframe\">\n",
              "  <thead>\n",
              "    <tr style=\"text-align: right;\">\n",
              "      <th></th>\n",
              "      <th>fruits</th>\n",
              "      <th>colour</th>\n",
              "      <th>costperkg</th>\n",
              "      <th>time</th>\n",
              "    </tr>\n",
              "  </thead>\n",
              "  <tbody>\n",
              "    <tr>\n",
              "      <th>0</th>\n",
              "      <td>mango</td>\n",
              "      <td>juicyyellow</td>\n",
              "      <td>50</td>\n",
              "      <td>summer</td>\n",
              "    </tr>\n",
              "    <tr>\n",
              "      <th>1</th>\n",
              "      <td>orange</td>\n",
              "      <td>orange</td>\n",
              "      <td>40</td>\n",
              "      <td>summer</td>\n",
              "    </tr>\n",
              "    <tr>\n",
              "      <th>2</th>\n",
              "      <td>pineapple</td>\n",
              "      <td>mildyellow</td>\n",
              "      <td>60</td>\n",
              "      <td>spring</td>\n",
              "    </tr>\n",
              "    <tr>\n",
              "      <th>3</th>\n",
              "      <td>banana</td>\n",
              "      <td>yellow</td>\n",
              "      <td>50</td>\n",
              "      <td>alltime</td>\n",
              "    </tr>\n",
              "  </tbody>\n",
              "</table>\n",
              "</div>"
            ],
            "text/plain": [
              "      fruits       colour costperkg     time\n",
              "0      mango  juicyyellow        50   summer\n",
              "1     orange       orange        40   summer\n",
              "2  pineapple   mildyellow        60   spring\n",
              "3     banana       yellow        50  alltime"
            ]
          },
          "metadata": {
            "tags": []
          },
          "execution_count": 1
        }
      ]
    },
    {
      "cell_type": "code",
      "metadata": {
        "colab": {
          "base_uri": "https://localhost:8080/",
          "height": 173
        },
        "id": "V0TwVYpqTONQ",
        "outputId": "24774e85-db5c-4e63-acad-81c215189243"
      },
      "source": [
        "#singlecolumn,multiplecolumn,multiplerowselection in dataframes\n",
        "df1[\"fruits\"].head(4)\n",
        "df1[[\"fruits\"]].head(4)\n",
        "df1[0:4]"
      ],
      "execution_count": null,
      "outputs": [
        {
          "output_type": "execute_result",
          "data": {
            "text/html": [
              "<div>\n",
              "<style scoped>\n",
              "    .dataframe tbody tr th:only-of-type {\n",
              "        vertical-align: middle;\n",
              "    }\n",
              "\n",
              "    .dataframe tbody tr th {\n",
              "        vertical-align: top;\n",
              "    }\n",
              "\n",
              "    .dataframe thead th {\n",
              "        text-align: right;\n",
              "    }\n",
              "</style>\n",
              "<table border=\"1\" class=\"dataframe\">\n",
              "  <thead>\n",
              "    <tr style=\"text-align: right;\">\n",
              "      <th></th>\n",
              "      <th>fruits</th>\n",
              "      <th>colour</th>\n",
              "      <th>costperkg</th>\n",
              "      <th>time</th>\n",
              "    </tr>\n",
              "  </thead>\n",
              "  <tbody>\n",
              "    <tr>\n",
              "      <th>0</th>\n",
              "      <td>mango</td>\n",
              "      <td>juicyyellow</td>\n",
              "      <td>50</td>\n",
              "      <td>summer</td>\n",
              "    </tr>\n",
              "    <tr>\n",
              "      <th>1</th>\n",
              "      <td>orange</td>\n",
              "      <td>orange</td>\n",
              "      <td>40</td>\n",
              "      <td>summer</td>\n",
              "    </tr>\n",
              "    <tr>\n",
              "      <th>2</th>\n",
              "      <td>pineapple</td>\n",
              "      <td>mildyellow</td>\n",
              "      <td>60</td>\n",
              "      <td>spring</td>\n",
              "    </tr>\n",
              "    <tr>\n",
              "      <th>3</th>\n",
              "      <td>banana</td>\n",
              "      <td>yellow</td>\n",
              "      <td>50</td>\n",
              "      <td>alltime</td>\n",
              "    </tr>\n",
              "  </tbody>\n",
              "</table>\n",
              "</div>"
            ],
            "text/plain": [
              "      fruits       colour costperkg     time\n",
              "0      mango  juicyyellow        50   summer\n",
              "1     orange       orange        40   summer\n",
              "2  pineapple   mildyellow        60   spring\n",
              "3     banana       yellow        50  alltime"
            ]
          },
          "metadata": {
            "tags": []
          },
          "execution_count": 23
        }
      ]
    },
    {
      "cell_type": "code",
      "metadata": {
        "colab": {
          "base_uri": "https://localhost:8080/"
        },
        "id": "YWl0gTc1Oh4R",
        "outputId": "9e28931c-c07a-4b32-819d-9a7be86950f4"
      },
      "source": [
        "import pandas as pd\n",
        "import numpy as np\n",
        "data = pd.read_csv(\"sam.csv\")\n",
        "type(data)"
      ],
      "execution_count": 4,
      "outputs": [
        {
          "output_type": "execute_result",
          "data": {
            "text/plain": [
              "pandas.core.frame.DataFrame"
            ]
          },
          "metadata": {
            "tags": []
          },
          "execution_count": 4
        }
      ]
    },
    {
      "cell_type": "code",
      "metadata": {
        "colab": {
          "base_uri": "https://localhost:8080/"
        },
        "id": "p6fRNmovO2tB",
        "outputId": "eed1b49c-50db-48f4-82c3-0f669b40b3dd"
      },
      "source": [
        "data.dtypes"
      ],
      "execution_count": null,
      "outputs": [
        {
          "output_type": "execute_result",
          "data": {
            "text/plain": [
              "City               object\n",
              "Colors Reported    object\n",
              "Shape Reported     object\n",
              "State              object\n",
              "Time               object\n",
              "dtype: object"
            ]
          },
          "metadata": {
            "tags": []
          },
          "execution_count": 5
        }
      ]
    },
    {
      "cell_type": "code",
      "metadata": {
        "colab": {
          "base_uri": "https://localhost:8080/"
        },
        "id": "4-kDvSueQFPw",
        "outputId": "17a3af61-df47-4ac7-9831-220007dacf56"
      },
      "source": [
        "data.isnull().sum()"
      ],
      "execution_count": null,
      "outputs": [
        {
          "output_type": "execute_result",
          "data": {
            "text/plain": [
              "City                  25\n",
              "Colors Reported    15359\n",
              "Shape Reported      2644\n",
              "State                  0\n",
              "Time                   0\n",
              "dtype: int64"
            ]
          },
          "metadata": {
            "tags": []
          },
          "execution_count": 6
        }
      ]
    },
    {
      "cell_type": "code",
      "metadata": {
        "colab": {
          "base_uri": "https://localhost:8080/"
        },
        "id": "ztYYUzqiRgYa",
        "outputId": "f3417226-a51b-4d3a-96d8-c63cb1868686"
      },
      "source": [
        "a = data['Colors Reported'].unique()\n",
        "print(a)"
      ],
      "execution_count": 7,
      "outputs": [
        {
          "output_type": "stream",
          "text": [
            "[nan 'RED' 'GREEN' 'BLUE' 'ORANGE' 'YELLOW' 'ORANGE YELLOW' 'RED GREEN'\n",
            " 'RED BLUE' 'RED ORANGE' 'RED GREEN BLUE' 'RED YELLOW GREEN' 'RED YELLOW'\n",
            " 'GREEN BLUE' 'ORANGE GREEN BLUE' 'ORANGE GREEN' 'YELLOW GREEN'\n",
            " 'RED YELLOW BLUE' 'ORANGE BLUE' 'RED YELLOW GREEN BLUE'\n",
            " 'YELLOW GREEN BLUE' 'RED ORANGE YELLOW' 'RED ORANGE YELLOW BLUE'\n",
            " 'YELLOW BLUE' 'RED ORANGE GREEN' 'RED ORANGE BLUE' 'ORANGE YELLOW GREEN'\n",
            " 'ORANGE YELLOW BLUE']\n"
          ],
          "name": "stdout"
        }
      ]
    },
    {
      "cell_type": "code",
      "metadata": {
        "colab": {
          "base_uri": "https://localhost:8080/",
          "height": 173
        },
        "id": "aYtuA_o4QByn",
        "outputId": "8a7ca738-f36c-4e75-8052-f3eac8bf066a"
      },
      "source": [
        "data.shape #returns total rows and columns\n",
        "data.describe()\n",
        "\n"
      ],
      "execution_count": 5,
      "outputs": [
        {
          "output_type": "execute_result",
          "data": {
            "text/html": [
              "<div>\n",
              "<style scoped>\n",
              "    .dataframe tbody tr th:only-of-type {\n",
              "        vertical-align: middle;\n",
              "    }\n",
              "\n",
              "    .dataframe tbody tr th {\n",
              "        vertical-align: top;\n",
              "    }\n",
              "\n",
              "    .dataframe thead th {\n",
              "        text-align: right;\n",
              "    }\n",
              "</style>\n",
              "<table border=\"1\" class=\"dataframe\">\n",
              "  <thead>\n",
              "    <tr style=\"text-align: right;\">\n",
              "      <th></th>\n",
              "      <th>City</th>\n",
              "      <th>Colors Reported</th>\n",
              "      <th>Shape Reported</th>\n",
              "      <th>State</th>\n",
              "      <th>Time</th>\n",
              "    </tr>\n",
              "  </thead>\n",
              "  <tbody>\n",
              "    <tr>\n",
              "      <th>count</th>\n",
              "      <td>18216</td>\n",
              "      <td>2882</td>\n",
              "      <td>15597</td>\n",
              "      <td>18241</td>\n",
              "      <td>18241</td>\n",
              "    </tr>\n",
              "    <tr>\n",
              "      <th>unique</th>\n",
              "      <td>6476</td>\n",
              "      <td>27</td>\n",
              "      <td>27</td>\n",
              "      <td>52</td>\n",
              "      <td>16145</td>\n",
              "    </tr>\n",
              "    <tr>\n",
              "      <th>top</th>\n",
              "      <td>Seattle</td>\n",
              "      <td>RED</td>\n",
              "      <td>LIGHT</td>\n",
              "      <td>CA</td>\n",
              "      <td>11/16/1999 19:00</td>\n",
              "    </tr>\n",
              "    <tr>\n",
              "      <th>freq</th>\n",
              "      <td>187</td>\n",
              "      <td>780</td>\n",
              "      <td>2803</td>\n",
              "      <td>2529</td>\n",
              "      <td>27</td>\n",
              "    </tr>\n",
              "  </tbody>\n",
              "</table>\n",
              "</div>"
            ],
            "text/plain": [
              "           City Colors Reported Shape Reported  State              Time\n",
              "count     18216            2882          15597  18241             18241\n",
              "unique     6476              27             27     52             16145\n",
              "top     Seattle             RED          LIGHT     CA  11/16/1999 19:00\n",
              "freq        187             780           2803   2529                27"
            ]
          },
          "metadata": {
            "tags": []
          },
          "execution_count": 5
        }
      ]
    },
    {
      "cell_type": "code",
      "metadata": {
        "colab": {
          "base_uri": "https://localhost:8080/"
        },
        "id": "t5MI5lAzRrgs",
        "outputId": "0f1154b8-be9a-4304-a2b5-ade39342f8a8"
      },
      "source": [
        "data['Colors Reported'].head(13)"
      ],
      "execution_count": null,
      "outputs": [
        {
          "output_type": "execute_result",
          "data": {
            "text/plain": [
              "0     NaN\n",
              "1     NaN\n",
              "2     NaN\n",
              "3     NaN\n",
              "4     NaN\n",
              "5     NaN\n",
              "6     NaN\n",
              "7     NaN\n",
              "8     NaN\n",
              "9     NaN\n",
              "10    NaN\n",
              "11    NaN\n",
              "Name: Colors Reported, dtype: object"
            ]
          },
          "metadata": {
            "tags": []
          },
          "execution_count": 11
        }
      ]
    },
    {
      "cell_type": "code",
      "metadata": {
        "colab": {
          "base_uri": "https://localhost:8080/"
        },
        "id": "iF_0zU22SWZS",
        "outputId": "0bfb871d-7836-418c-ccb2-9422e66c77bf"
      },
      "source": [
        "categories = {\"Colors Reported\":{\"RED\":1}}\n",
        "data.replace(categories,inplace=True)\n",
        "data['Colors Reported'].head(13)\n",
        "#we can find mean for numerical data columns and replace original with mean\n",
        "#by using syntax as x=np.mean(data['column_name']) and replace it with x\n"
      ],
      "execution_count": null,
      "outputs": [
        {
          "output_type": "execute_result",
          "data": {
            "text/plain": [
              "0     NaN\n",
              "1     NaN\n",
              "2     NaN\n",
              "3     NaN\n",
              "4     NaN\n",
              "5     NaN\n",
              "6     NaN\n",
              "7     NaN\n",
              "8     NaN\n",
              "9     NaN\n",
              "10    NaN\n",
              "11    NaN\n",
              "12      1\n",
              "Name: Colors Reported, dtype: object"
            ]
          },
          "metadata": {
            "tags": []
          },
          "execution_count": 15
        }
      ]
    },
    {
      "cell_type": "code",
      "metadata": {
        "id": "W0o1Q3DSVv32",
        "colab": {
          "base_uri": "https://localhost:8080/"
        },
        "outputId": "8aab4be0-b09a-493a-bfac-79e4b3d423f7"
      },
      "source": [
        "#filling missing values of colors reported with 'RED' , so u can observe 0 isnull values in colore reported\n",
        "a = 'RED'\n",
        "data['Colors Reported'] = data['Colors Reported'].fillna(a)\n",
        "data['Colors Reported'].head(20)\n",
        "data['Colors Reported'].unique()\n",
        "data.isnull().sum()"
      ],
      "execution_count": 13,
      "outputs": [
        {
          "output_type": "execute_result",
          "data": {
            "text/plain": [
              "City                 25\n",
              "Colors Reported       0\n",
              "Shape Reported     2644\n",
              "State                 0\n",
              "Time                  0\n",
              "dtype: int64"
            ]
          },
          "metadata": {
            "tags": []
          },
          "execution_count": 13
        }
      ]
    },
    {
      "cell_type": "code",
      "metadata": {
        "colab": {
          "base_uri": "https://localhost:8080/"
        },
        "id": "eQUxBz9_q5M8",
        "outputId": "d159c1fe-4ef4-49fd-b6b2-fd4bb92498d7"
      },
      "source": [
        "#DataFrame.loc[] method is a method that takes only index labels and returns row or dataframe if the index label exists in the caller data frame\n",
        "#we can extract rows using loc\n",
        "data1 = data.loc[:,['Colors Reported','Shape Reported','State']]\n",
        "data3 = data.loc[:5,['State','Time']]\n",
        "print(data1.head(6))\n",
        "print(\"---***---\"*20)\n",
        "print(data3.head(5))\n",
        "print(\"--*--\"*20)\n",
        "data2 = data.iloc[:5,3:5]\n",
        "print(data2)"
      ],
      "execution_count": 31,
      "outputs": [
        {
          "output_type": "stream",
          "text": [
            "  Colors Reported Shape Reported State\n",
            "0             RED       TRIANGLE    NY\n",
            "1             RED          OTHER    NJ\n",
            "2             RED           OVAL    CO\n",
            "3             RED           DISK    KS\n",
            "4             RED          LIGHT    NY\n",
            "5             RED           DISK    ND\n",
            "---***------***------***------***------***------***------***------***------***------***------***------***------***------***------***------***------***------***------***------***---\n",
            "  State             Time\n",
            "0    NY   6/1/1930 22:00\n",
            "1    NJ  6/30/1930 20:00\n",
            "2    CO  2/15/1931 14:00\n",
            "3    KS   6/1/1931 13:00\n",
            "4    NY  4/18/1933 19:00\n",
            "--*----*----*----*----*----*----*----*----*----*----*----*----*----*----*----*----*----*----*----*--\n",
            "  State             Time\n",
            "0    NY   6/1/1930 22:00\n",
            "1    NJ  6/30/1930 20:00\n",
            "2    CO  2/15/1931 14:00\n",
            "3    KS   6/1/1931 13:00\n",
            "4    NY  4/18/1933 19:00\n"
          ],
          "name": "stdout"
        }
      ]
    },
    {
      "cell_type": "code",
      "metadata": {
        "colab": {
          "base_uri": "https://localhost:8080/",
          "height": 282
        },
        "id": "LE9td2S_vTFI",
        "outputId": "fdefe5d7-f064-4dcd-a585-9c8269c9a0c7"
      },
      "source": [
        "#plotting histogram for sam.csv data\n",
        "data['Shape Reported'].describe()\n",
        "%matplotlib inline\n",
        "data['Shape Reported'].hist()"
      ],
      "execution_count": 35,
      "outputs": [
        {
          "output_type": "execute_result",
          "data": {
            "text/plain": [
              "<matplotlib.axes._subplots.AxesSubplot at 0x7fc5870a69d0>"
            ]
          },
          "metadata": {
            "tags": []
          },
          "execution_count": 35
        },
        {
          "output_type": "display_data",
          "data": {
            "image/png": "[encoded data removed]",
            "text/plain": [
              "<Figure size 432x288 with 1 Axes>"
            ]
          },
          "metadata": {
            "tags": [],
            "needs_background": "light"
          }
        }
      ]
    },
    {
      "cell_type": "code",
      "metadata": {
        "id": "RdfauddvCHWS"
      },
      "source": [
        "#creating another dataset of  txt file cars.txt\n",
        "data4 = pd.read_csv(\"cars.txt\",na_values='?',header=None)\n",
        "data4.columns=['Symboling','Normalized-losses','make','fuel-type','aspiration','num-of-doors','body-style','drive-wheels','drive-wheels','engine-location','length','width','height','curb-weight','engine-type','num-of-cylinders','engine-size','fuel-system','bore','stroke','compression-ratio','horsepower','peak-rpm','city-mpg','highway-mpg','price']"
      ],
      "execution_count": 38,
      "outputs": []
    },
    {
      "cell_type": "code",
      "metadata": {
        "colab": {
          "base_uri": "https://localhost:8080/",
          "height": 633
        },
        "id": "vX1kl23eEeaK",
        "outputId": "f7027065-df45-4e79-e76a-e07f20b9a7c3"
      },
      "source": [
        "#correlation between columns\n",
        "corr1 = data4.corr()\n",
        "corr1"
      ],
      "execution_count": 40,
      "outputs": [
        {
          "output_type": "execute_result",
          "data": {
            "text/html": [
              "<div>\n",
              "<style scoped>\n",
              "    .dataframe tbody tr th:only-of-type {\n",
              "        vertical-align: middle;\n",
              "    }\n",
              "\n",
              "    .dataframe tbody tr th {\n",
              "        vertical-align: top;\n",
              "    }\n",
              "\n",
              "    .dataframe thead th {\n",
              "        text-align: right;\n",
              "    }\n",
              "</style>\n",
              "<table border=\"1\" class=\"dataframe\">\n",
              "  <thead>\n",
              "    <tr style=\"text-align: right;\">\n",
              "      <th></th>\n",
              "      <th>Symboling</th>\n",
              "      <th>Normalized-losses</th>\n",
              "      <th>engine-location</th>\n",
              "      <th>length</th>\n",
              "      <th>width</th>\n",
              "      <th>height</th>\n",
              "      <th>curb-weight</th>\n",
              "      <th>engine-size</th>\n",
              "      <th>bore</th>\n",
              "      <th>stroke</th>\n",
              "      <th>compression-ratio</th>\n",
              "      <th>horsepower</th>\n",
              "      <th>peak-rpm</th>\n",
              "      <th>city-mpg</th>\n",
              "      <th>highway-mpg</th>\n",
              "      <th>price</th>\n",
              "    </tr>\n",
              "  </thead>\n",
              "  <tbody>\n",
              "    <tr>\n",
              "      <th>Symboling</th>\n",
              "      <td>1.000000</td>\n",
              "      <td>0.528667</td>\n",
              "      <td>-0.531954</td>\n",
              "      <td>-0.357612</td>\n",
              "      <td>-0.232919</td>\n",
              "      <td>-0.541038</td>\n",
              "      <td>-0.227691</td>\n",
              "      <td>-0.105790</td>\n",
              "      <td>-0.134205</td>\n",
              "      <td>-0.008965</td>\n",
              "      <td>-0.178515</td>\n",
              "      <td>0.071622</td>\n",
              "      <td>0.274573</td>\n",
              "      <td>-0.035823</td>\n",
              "      <td>0.034606</td>\n",
              "      <td>-0.082391</td>\n",
              "    </tr>\n",
              "    <tr>\n",
              "      <th>Normalized-losses</th>\n",
              "      <td>0.528667</td>\n",
              "      <td>1.000000</td>\n",
              "      <td>-0.074362</td>\n",
              "      <td>0.023220</td>\n",
              "      <td>0.105073</td>\n",
              "      <td>-0.432335</td>\n",
              "      <td>0.119893</td>\n",
              "      <td>0.167365</td>\n",
              "      <td>-0.036167</td>\n",
              "      <td>0.065627</td>\n",
              "      <td>-0.132654</td>\n",
              "      <td>0.295772</td>\n",
              "      <td>0.264597</td>\n",
              "      <td>-0.258502</td>\n",
              "      <td>-0.210768</td>\n",
              "      <td>0.203254</td>\n",
              "    </tr>\n",
              "    <tr>\n",
              "      <th>engine-location</th>\n",
              "      <td>-0.531954</td>\n",
              "      <td>-0.074362</td>\n",
              "      <td>1.000000</td>\n",
              "      <td>0.874587</td>\n",
              "      <td>0.795144</td>\n",
              "      <td>0.589435</td>\n",
              "      <td>0.776386</td>\n",
              "      <td>0.569329</td>\n",
              "      <td>0.490378</td>\n",
              "      <td>0.161477</td>\n",
              "      <td>0.249786</td>\n",
              "      <td>0.352297</td>\n",
              "      <td>-0.361052</td>\n",
              "      <td>-0.470414</td>\n",
              "      <td>-0.544082</td>\n",
              "      <td>0.584642</td>\n",
              "    </tr>\n",
              "    <tr>\n",
              "      <th>length</th>\n",
              "      <td>-0.357612</td>\n",
              "      <td>0.023220</td>\n",
              "      <td>0.874587</td>\n",
              "      <td>1.000000</td>\n",
              "      <td>0.841118</td>\n",
              "      <td>0.491029</td>\n",
              "      <td>0.877728</td>\n",
              "      <td>0.683360</td>\n",
              "      <td>0.607480</td>\n",
              "      <td>0.129739</td>\n",
              "      <td>0.158414</td>\n",
              "      <td>0.555003</td>\n",
              "      <td>-0.287325</td>\n",
              "      <td>-0.670909</td>\n",
              "      <td>-0.704662</td>\n",
              "      <td>0.690628</td>\n",
              "    </tr>\n",
              "    <tr>\n",
              "      <th>width</th>\n",
              "      <td>-0.232919</td>\n",
              "      <td>0.105073</td>\n",
              "      <td>0.795144</td>\n",
              "      <td>0.841118</td>\n",
              "      <td>1.000000</td>\n",
              "      <td>0.279210</td>\n",
              "      <td>0.867032</td>\n",
              "      <td>0.735433</td>\n",
              "      <td>0.559204</td>\n",
              "      <td>0.182956</td>\n",
              "      <td>0.181129</td>\n",
              "      <td>0.642482</td>\n",
              "      <td>-0.219957</td>\n",
              "      <td>-0.642704</td>\n",
              "      <td>-0.677218</td>\n",
              "      <td>0.751265</td>\n",
              "    </tr>\n",
              "    <tr>\n",
              "      <th>height</th>\n",
              "      <td>-0.541038</td>\n",
              "      <td>-0.432335</td>\n",
              "      <td>0.589435</td>\n",
              "      <td>0.491029</td>\n",
              "      <td>0.279210</td>\n",
              "      <td>1.000000</td>\n",
              "      <td>0.295572</td>\n",
              "      <td>0.067149</td>\n",
              "      <td>0.176195</td>\n",
              "      <td>-0.056999</td>\n",
              "      <td>0.261214</td>\n",
              "      <td>-0.110711</td>\n",
              "      <td>-0.322272</td>\n",
              "      <td>-0.048640</td>\n",
              "      <td>-0.107358</td>\n",
              "      <td>0.135486</td>\n",
              "    </tr>\n",
              "    <tr>\n",
              "      <th>curb-weight</th>\n",
              "      <td>-0.227691</td>\n",
              "      <td>0.119893</td>\n",
              "      <td>0.776386</td>\n",
              "      <td>0.877728</td>\n",
              "      <td>0.867032</td>\n",
              "      <td>0.295572</td>\n",
              "      <td>1.000000</td>\n",
              "      <td>0.850594</td>\n",
              "      <td>0.649045</td>\n",
              "      <td>0.168929</td>\n",
              "      <td>0.151362</td>\n",
              "      <td>0.751034</td>\n",
              "      <td>-0.266306</td>\n",
              "      <td>-0.757414</td>\n",
              "      <td>-0.797465</td>\n",
              "      <td>0.834415</td>\n",
              "    </tr>\n",
              "    <tr>\n",
              "      <th>engine-size</th>\n",
              "      <td>-0.105790</td>\n",
              "      <td>0.167365</td>\n",
              "      <td>0.569329</td>\n",
              "      <td>0.683360</td>\n",
              "      <td>0.735433</td>\n",
              "      <td>0.067149</td>\n",
              "      <td>0.850594</td>\n",
              "      <td>1.000000</td>\n",
              "      <td>0.594090</td>\n",
              "      <td>0.206675</td>\n",
              "      <td>0.028971</td>\n",
              "      <td>0.810773</td>\n",
              "      <td>-0.244618</td>\n",
              "      <td>-0.653658</td>\n",
              "      <td>-0.677470</td>\n",
              "      <td>0.872335</td>\n",
              "    </tr>\n",
              "    <tr>\n",
              "      <th>bore</th>\n",
              "      <td>-0.134205</td>\n",
              "      <td>-0.036167</td>\n",
              "      <td>0.490378</td>\n",
              "      <td>0.607480</td>\n",
              "      <td>0.559204</td>\n",
              "      <td>0.176195</td>\n",
              "      <td>0.649045</td>\n",
              "      <td>0.594090</td>\n",
              "      <td>1.000000</td>\n",
              "      <td>-0.055909</td>\n",
              "      <td>0.005203</td>\n",
              "      <td>0.577273</td>\n",
              "      <td>-0.264269</td>\n",
              "      <td>-0.594584</td>\n",
              "      <td>-0.594572</td>\n",
              "      <td>0.543436</td>\n",
              "    </tr>\n",
              "    <tr>\n",
              "      <th>stroke</th>\n",
              "      <td>-0.008965</td>\n",
              "      <td>0.065627</td>\n",
              "      <td>0.161477</td>\n",
              "      <td>0.129739</td>\n",
              "      <td>0.182956</td>\n",
              "      <td>-0.056999</td>\n",
              "      <td>0.168929</td>\n",
              "      <td>0.206675</td>\n",
              "      <td>-0.055909</td>\n",
              "      <td>1.000000</td>\n",
              "      <td>0.186170</td>\n",
              "      <td>0.090254</td>\n",
              "      <td>-0.071493</td>\n",
              "      <td>-0.042906</td>\n",
              "      <td>-0.044528</td>\n",
              "      <td>0.082310</td>\n",
              "    </tr>\n",
              "    <tr>\n",
              "      <th>compression-ratio</th>\n",
              "      <td>-0.178515</td>\n",
              "      <td>-0.132654</td>\n",
              "      <td>0.249786</td>\n",
              "      <td>0.158414</td>\n",
              "      <td>0.181129</td>\n",
              "      <td>0.261214</td>\n",
              "      <td>0.151362</td>\n",
              "      <td>0.028971</td>\n",
              "      <td>0.005203</td>\n",
              "      <td>0.186170</td>\n",
              "      <td>1.000000</td>\n",
              "      <td>-0.205874</td>\n",
              "      <td>-0.436221</td>\n",
              "      <td>0.324701</td>\n",
              "      <td>0.265201</td>\n",
              "      <td>0.071107</td>\n",
              "    </tr>\n",
              "    <tr>\n",
              "      <th>horsepower</th>\n",
              "      <td>0.071622</td>\n",
              "      <td>0.295772</td>\n",
              "      <td>0.352297</td>\n",
              "      <td>0.555003</td>\n",
              "      <td>0.642482</td>\n",
              "      <td>-0.110711</td>\n",
              "      <td>0.751034</td>\n",
              "      <td>0.810773</td>\n",
              "      <td>0.577273</td>\n",
              "      <td>0.090254</td>\n",
              "      <td>-0.205874</td>\n",
              "      <td>1.000000</td>\n",
              "      <td>0.130971</td>\n",
              "      <td>-0.803620</td>\n",
              "      <td>-0.770908</td>\n",
              "      <td>0.810533</td>\n",
              "    </tr>\n",
              "    <tr>\n",
              "      <th>peak-rpm</th>\n",
              "      <td>0.274573</td>\n",
              "      <td>0.264597</td>\n",
              "      <td>-0.361052</td>\n",
              "      <td>-0.287325</td>\n",
              "      <td>-0.219957</td>\n",
              "      <td>-0.322272</td>\n",
              "      <td>-0.266306</td>\n",
              "      <td>-0.244618</td>\n",
              "      <td>-0.264269</td>\n",
              "      <td>-0.071493</td>\n",
              "      <td>-0.436221</td>\n",
              "      <td>0.130971</td>\n",
              "      <td>1.000000</td>\n",
              "      <td>-0.113788</td>\n",
              "      <td>-0.054257</td>\n",
              "      <td>-0.101649</td>\n",
              "    </tr>\n",
              "    <tr>\n",
              "      <th>city-mpg</th>\n",
              "      <td>-0.035823</td>\n",
              "      <td>-0.258502</td>\n",
              "      <td>-0.470414</td>\n",
              "      <td>-0.670909</td>\n",
              "      <td>-0.642704</td>\n",
              "      <td>-0.048640</td>\n",
              "      <td>-0.757414</td>\n",
              "      <td>-0.653658</td>\n",
              "      <td>-0.594584</td>\n",
              "      <td>-0.042906</td>\n",
              "      <td>0.324701</td>\n",
              "      <td>-0.803620</td>\n",
              "      <td>-0.113788</td>\n",
              "      <td>1.000000</td>\n",
              "      <td>0.971337</td>\n",
              "      <td>-0.686571</td>\n",
              "    </tr>\n",
              "    <tr>\n",
              "      <th>highway-mpg</th>\n",
              "      <td>0.034606</td>\n",
              "      <td>-0.210768</td>\n",
              "      <td>-0.544082</td>\n",
              "      <td>-0.704662</td>\n",
              "      <td>-0.677218</td>\n",
              "      <td>-0.107358</td>\n",
              "      <td>-0.797465</td>\n",
              "      <td>-0.677470</td>\n",
              "      <td>-0.594572</td>\n",
              "      <td>-0.044528</td>\n",
              "      <td>0.265201</td>\n",
              "      <td>-0.770908</td>\n",
              "      <td>-0.054257</td>\n",
              "      <td>0.971337</td>\n",
              "      <td>1.000000</td>\n",
              "      <td>-0.704692</td>\n",
              "    </tr>\n",
              "    <tr>\n",
              "      <th>price</th>\n",
              "      <td>-0.082391</td>\n",
              "      <td>0.203254</td>\n",
              "      <td>0.584642</td>\n",
              "      <td>0.690628</td>\n",
              "      <td>0.751265</td>\n",
              "      <td>0.135486</td>\n",
              "      <td>0.834415</td>\n",
              "      <td>0.872335</td>\n",
              "      <td>0.543436</td>\n",
              "      <td>0.082310</td>\n",
              "      <td>0.071107</td>\n",
              "      <td>0.810533</td>\n",
              "      <td>-0.101649</td>\n",
              "      <td>-0.686571</td>\n",
              "      <td>-0.704692</td>\n",
              "      <td>1.000000</td>\n",
              "    </tr>\n",
              "  </tbody>\n",
              "</table>\n",
              "</div>"
            ],
            "text/plain": [
              "                   Symboling  Normalized-losses  ...  highway-mpg     price\n",
              "Symboling           1.000000           0.528667  ...     0.034606 -0.082391\n",
              "Normalized-losses   0.528667           1.000000  ...    -0.210768  0.203254\n",
              "engine-location    -0.531954          -0.074362  ...    -0.544082  0.584642\n",
              "length             -0.357612           0.023220  ...    -0.704662  0.690628\n",
              "width              -0.232919           0.105073  ...    -0.677218  0.751265\n",
              "height             -0.541038          -0.432335  ...    -0.107358  0.135486\n",
              "curb-weight        -0.227691           0.119893  ...    -0.797465  0.834415\n",
              "engine-size        -0.105790           0.167365  ...    -0.677470  0.872335\n",
              "bore               -0.134205          -0.036167  ...    -0.594572  0.543436\n",
              "stroke             -0.008965           0.065627  ...    -0.044528  0.082310\n",
              "compression-ratio  -0.178515          -0.132654  ...     0.265201  0.071107\n",
              "horsepower          0.071622           0.295772  ...    -0.770908  0.810533\n",
              "peak-rpm            0.274573           0.264597  ...    -0.054257 -0.101649\n",
              "city-mpg           -0.035823          -0.258502  ...     0.971337 -0.686571\n",
              "highway-mpg         0.034606          -0.210768  ...     1.000000 -0.704692\n",
              "price              -0.082391           0.203254  ...    -0.704692  1.000000\n",
              "\n",
              "[16 rows x 16 columns]"
            ]
          },
          "metadata": {
            "tags": []
          },
          "execution_count": 40
        }
      ]
    },
    {
      "cell_type": "code",
      "metadata": {
        "colab": {
          "base_uri": "https://localhost:8080/"
        },
        "id": "QSUTTsXaFAHj",
        "outputId": "cd612d10-6d75-4f1d-d623-a146a0d58780"
      },
      "source": [
        "data4.dtypes"
      ],
      "execution_count": 42,
      "outputs": [
        {
          "output_type": "execute_result",
          "data": {
            "text/plain": [
              "Symboling              int64\n",
              "Normalized-losses    float64\n",
              "make                  object\n",
              "fuel-type             object\n",
              "aspiration            object\n",
              "num-of-doors          object\n",
              "body-style            object\n",
              "drive-wheels          object\n",
              "drive-wheels          object\n",
              "engine-location      float64\n",
              "length               float64\n",
              "width                float64\n",
              "height               float64\n",
              "curb-weight            int64\n",
              "engine-type           object\n",
              "num-of-cylinders      object\n",
              "engine-size            int64\n",
              "fuel-system           object\n",
              "bore                 float64\n",
              "stroke               float64\n",
              "compression-ratio    float64\n",
              "horsepower           float64\n",
              "peak-rpm             float64\n",
              "city-mpg               int64\n",
              "highway-mpg            int64\n",
              "price                float64\n",
              "dtype: object"
            ]
          },
          "metadata": {
            "tags": []
          },
          "execution_count": 42
        }
      ]
    },
    {
      "cell_type": "code",
      "metadata": {
        "colab": {
          "base_uri": "https://localhost:8080/"
        },
        "id": "DRQfwlgVEmsT",
        "outputId": "f722faf5-7a98-4f62-896c-68cbcc23c4e4"
      },
      "source": [
        "#boxplot but figure not appeared\n",
        "%matplotlib\n",
        "#filling missing values of price with mean\n",
        "z = np.mean(data4['price'])\n",
        "z = int(z)\n",
        "data4['price']= data4['price'].fillna(z)\n",
        "#print(data4['price'])\n",
        "#boxplot\n",
        "byfueltype = data4.groupby(\"fuel-type\")\n",
        "byfueltype.boxplot(column=\"price\")\n"
      ],
      "execution_count": 73,
      "outputs": [
        {
          "output_type": "stream",
          "text": [
            "Using matplotlib backend: agg\n"
          ],
          "name": "stdout"
        },
        {
          "output_type": "execute_result",
          "data": {
            "text/plain": [
              "diesel         AxesSubplot(0.1,0.15;0.363636x0.75)\n",
              "gas       AxesSubplot(0.536364,0.15;0.363636x0.75)\n",
              "dtype: object"
            ]
          },
          "metadata": {
            "tags": []
          },
          "execution_count": 73
        }
      ]
    },
    {
      "cell_type": "code",
      "metadata": {
        "colab": {
          "base_uri": "https://localhost:8080/",
          "height": 235
        },
        "id": "z_Q3CllbKCUR",
        "outputId": "bf7c67fc-cc78-4e61-f9bb-47bea1cdbe4c"
      },
      "source": [
        "#using groupby\n",
        "data4['body-style'].unique()\n",
        "data_aux = data4.loc[:,['body-style','width','height']]\n",
        "bybodystyle = data_aux.groupby('body-style')\n",
        "bybodystyle.mean()"
      ],
      "execution_count": 57,
      "outputs": [
        {
          "output_type": "execute_result",
          "data": {
            "text/html": [
              "<div>\n",
              "<style scoped>\n",
              "    .dataframe tbody tr th:only-of-type {\n",
              "        vertical-align: middle;\n",
              "    }\n",
              "\n",
              "    .dataframe tbody tr th {\n",
              "        vertical-align: top;\n",
              "    }\n",
              "\n",
              "    .dataframe thead th {\n",
              "        text-align: right;\n",
              "    }\n",
              "</style>\n",
              "<table border=\"1\" class=\"dataframe\">\n",
              "  <thead>\n",
              "    <tr style=\"text-align: right;\">\n",
              "      <th></th>\n",
              "      <th>width</th>\n",
              "      <th>height</th>\n",
              "    </tr>\n",
              "    <tr>\n",
              "      <th>body-style</th>\n",
              "      <th></th>\n",
              "      <th></th>\n",
              "    </tr>\n",
              "  </thead>\n",
              "  <tbody>\n",
              "    <tr>\n",
              "      <th>convertible</th>\n",
              "      <td>65.583333</td>\n",
              "      <td>51.433333</td>\n",
              "    </tr>\n",
              "    <tr>\n",
              "      <th>hardtop</th>\n",
              "      <td>66.612500</td>\n",
              "      <td>52.850000</td>\n",
              "    </tr>\n",
              "    <tr>\n",
              "      <th>hatchback</th>\n",
              "      <td>65.247143</td>\n",
              "      <td>52.108571</td>\n",
              "    </tr>\n",
              "    <tr>\n",
              "      <th>sedan</th>\n",
              "      <td>66.260417</td>\n",
              "      <td>54.337500</td>\n",
              "    </tr>\n",
              "    <tr>\n",
              "      <th>wagon</th>\n",
              "      <td>66.256000</td>\n",
              "      <td>56.728000</td>\n",
              "    </tr>\n",
              "  </tbody>\n",
              "</table>\n",
              "</div>"
            ],
            "text/plain": [
              "                 width     height\n",
              "body-style                       \n",
              "convertible  65.583333  51.433333\n",
              "hardtop      66.612500  52.850000\n",
              "hatchback    65.247143  52.108571\n",
              "sedan        66.260417  54.337500\n",
              "wagon        66.256000  56.728000"
            ]
          },
          "metadata": {
            "tags": []
          },
          "execution_count": 57
        }
      ]
    },
    {
      "cell_type": "code",
      "metadata": {
        "colab": {
          "base_uri": "https://localhost:8080/"
        },
        "id": "4a9A_Y9SIVV2",
        "outputId": "4de6eed4-c627-43d1-90fc-e7dda47a6052"
      },
      "source": [
        "#representing frequency chart of num-of-cylinders column\n",
        "pd.value_counts(data4['num-of-cylinders'])"
      ],
      "execution_count": 59,
      "outputs": [
        {
          "output_type": "execute_result",
          "data": {
            "text/plain": [
              "four      159\n",
              "six        24\n",
              "five       11\n",
              "eight       5\n",
              "two         4\n",
              "three       1\n",
              "twelve      1\n",
              "Name: num-of-cylinders, dtype: int64"
            ]
          },
          "metadata": {
            "tags": []
          },
          "execution_count": 59
        }
      ]
    },
    {
      "cell_type": "code",
      "metadata": {
        "colab": {
          "base_uri": "https://localhost:8080/"
        },
        "id": "IeM4wnHAPDrm",
        "outputId": "8081e0f9-88dd-4995-f9c2-70c9c40ca63c"
      },
      "source": [
        "#get an orderly list of different car brands\n",
        "x = data4['make'].unique()\n",
        "x = list(x)\n",
        "x.sort()\n",
        "x"
      ],
      "execution_count": 63,
      "outputs": [
        {
          "output_type": "execute_result",
          "data": {
            "text/plain": [
              "['alfa-romero',\n",
              " 'audi',\n",
              " 'bmw',\n",
              " 'chevrolet',\n",
              " 'dodge',\n",
              " 'honda',\n",
              " 'isuzu',\n",
              " 'jaguar',\n",
              " 'mazda',\n",
              " 'mercedes-benz',\n",
              " 'mercury',\n",
              " 'mitsubishi',\n",
              " 'nissan',\n",
              " 'peugot',\n",
              " 'plymouth',\n",
              " 'porsche',\n",
              " 'renault',\n",
              " 'saab',\n",
              " 'subaru',\n",
              " 'toyota',\n",
              " 'volkswagen',\n",
              " 'volvo']"
            ]
          },
          "metadata": {
            "tags": []
          },
          "execution_count": 63
        }
      ]
    },
    {
      "cell_type": "code",
      "metadata": {
        "colab": {
          "base_uri": "https://localhost:8080/"
        },
        "id": "QpprA9Q1TNHc",
        "outputId": "4927f3dd-bcaf-4981-dc2f-48090c41ef4b"
      },
      "source": [
        "#removing aspiration column from dataframe\n",
        "data4 = data4.drop(labels ='aspiration', axis = 1)\n",
        "data4.dtypes"
      ],
      "execution_count": 79,
      "outputs": [
        {
          "output_type": "execute_result",
          "data": {
            "text/plain": [
              "Normalized-losses    float64\n",
              "make                  object\n",
              "fuel-type             object\n",
              "num-of-doors          object\n",
              "body-style            object\n",
              "drive-wheels          object\n",
              "drive-wheels          object\n",
              "engine-location      float64\n",
              "length               float64\n",
              "width                float64\n",
              "height               float64\n",
              "curb-weight            int64\n",
              "engine-type           object\n",
              "num-of-cylinders      object\n",
              "engine-size            int64\n",
              "fuel-system           object\n",
              "bore                 float64\n",
              "stroke               float64\n",
              "compression-ratio    float64\n",
              "horsepower           float64\n",
              "peak-rpm             float64\n",
              "city-mpg               int64\n",
              "highway-mpg            int64\n",
              "price                float64\n",
              "dtype: object"
            ]
          },
          "metadata": {
            "tags": []
          },
          "execution_count": 79
        }
      ]
    },
    {
      "cell_type": "code",
      "metadata": {
        "colab": {
          "base_uri": "https://localhost:8080/"
        },
        "id": "CRqS5MvZUU6_",
        "outputId": "48c5d203-2bf3-43c5-cbec-88c1340c86be"
      },
      "source": [
        "#finding which variables are most correlated\n",
        "corr1['price'].sort_values(ascending = False)"
      ],
      "execution_count": 80,
      "outputs": [
        {
          "output_type": "execute_result",
          "data": {
            "text/plain": [
              "price                1.000000\n",
              "engine-size          0.872335\n",
              "curb-weight          0.834415\n",
              "horsepower           0.810533\n",
              "width                0.751265\n",
              "length               0.690628\n",
              "engine-location      0.584642\n",
              "bore                 0.543436\n",
              "Normalized-losses    0.203254\n",
              "height               0.135486\n",
              "stroke               0.082310\n",
              "compression-ratio    0.071107\n",
              "Symboling           -0.082391\n",
              "peak-rpm            -0.101649\n",
              "city-mpg            -0.686571\n",
              "highway-mpg         -0.704692\n",
              "Name: price, dtype: float64"
            ]
          },
          "metadata": {
            "tags": []
          },
          "execution_count": 80
        }
      ]
    }
  ]
}